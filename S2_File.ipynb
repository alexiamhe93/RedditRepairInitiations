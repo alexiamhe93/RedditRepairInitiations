{
  "nbformat": 4,
  "nbformat_minor": 0,
  "metadata": {
    "colab": {
      "provenance": [],
      "authorship_tag": "ABX9TyNehCFkT1o76EoYs/qQApmI",
      "include_colab_link": true
    },
    "kernelspec": {
      "name": "python3",
      "display_name": "Python 3"
    },
    "language_info": {
      "name": "python"
    }
  },
  "cells": [
    {
      "cell_type": "markdown",
      "metadata": {
        "id": "view-in-github",
        "colab_type": "text"
      },
      "source": [
        "<a href=\"https://colab.research.google.com/github/alexiamhe93/RedditRepairInitiations/blob/main/S2_File.ipynb\" target=\"_parent\"><img src=\"https://colab.research.google.com/assets/colab-badge.svg\" alt=\"Open In Colab\"/></a>"
      ]
    },
    {
      "cell_type": "markdown",
      "source": [
        "# S2 - Notebook for inter-rater reliability and classifier validity\n",
        "\n"
      ],
      "metadata": {
        "id": "gKz0i9GRBlpc"
      }
    },
    {
      "cell_type": "markdown",
      "source": [
        "# 1. Initiate notebook\n",
        "\n",
        "This section is required for the notebook to run. It loads all necessary packages, as well as download and load the data.\n",
        "\n",
        "We recommend running this notebook in Google Colab as it is designed for easy replication (load in Colab - click runtime and \"run all\"). For an easy accessible version, click here and go to \"S2\":\n",
        "\n",
        "https://github.com/alexiamhe93/RedditRepairInitiations"
      ],
      "metadata": {
        "id": "8GmrA56SBsXd"
      }
    },
    {
      "cell_type": "markdown",
      "source": [
        "## Load packages"
      ],
      "metadata": {
        "id": "Cl2hthzGYnvh"
      }
    },
    {
      "cell_type": "code",
      "source": [
        "import os\n",
        "import pandas as pd\n",
        "# For IRR\n",
        "from nltk import agreement\n",
        "# For validation of few-shot algorithm\n",
        "from sklearn.metrics import classification_report,confusion_matrix,ConfusionMatrixDisplay\n",
        "from sklearn.metrics import roc_auc_score\n",
        "from sklearn.metrics import precision_recall_curve, auc"
      ],
      "metadata": {
        "id": "O0F0a9THTe1A"
      },
      "execution_count": 1,
      "outputs": []
    },
    {
      "cell_type": "markdown",
      "source": [
        "## Download and load data"
      ],
      "metadata": {
        "id": "TzeFDLVyYqrs"
      }
    },
    {
      "cell_type": "code",
      "execution_count": 2,
      "metadata": {
        "id": "5PJfC9mzS9iT"
      },
      "outputs": [],
      "source": [
        "# for downloading data\n",
        "import requests, zipfile, io\n",
        "r = requests.get('https://github.com/alexiamhe93/RedditRepairInitiations/blob/main/data.zip?raw=true' )\n",
        "z = zipfile.ZipFile(io.BytesIO(r.content))\n",
        "z.extractall()"
      ]
    },
    {
      "cell_type": "code",
      "source": [
        "# Load data\n",
        "try:\n",
        "  # Few shot validation data\n",
        "  Prompt_df = pd.read_csv(\"prompt.csv\")\n",
        "  # Inter-rater reliability data\n",
        "  IRR_df = pd.read_csv(\"IRR.csv\")\n",
        "except:\n",
        "  Prompt_df = pd.read_csv(\"Data/prompt.csv\")\n",
        "  IRR_df = pd.read_csv(\"Data/IRR.csv\")"
      ],
      "metadata": {
        "id": "dvgN4Ud5AXqI"
      },
      "execution_count": 4,
      "outputs": []
    },
    {
      "cell_type": "markdown",
      "source": [
        "# 2. Inter-rater reliability of manually coded data.\n",
        "\n",
        "The below code calculates the inter-rater reliability of 981 (52% of total manually coded data) comments independently double scored by two coders."
      ],
      "metadata": {
        "id": "e6WkWT3NUW3u"
      }
    },
    {
      "cell_type": "code",
      "source": [
        "\n",
        "\n",
        "# Function for prepping output\n",
        "def create_output(df):\n",
        "  \"\"\"\n",
        "  Function converts two coder columns for use in IRR calculations.\n",
        "  \"\"\"\n",
        "  IRR_out = []\n",
        "  for i, row in df.iterrows():\n",
        "    for k in list(df.columns):\n",
        "      IRR_out.append([k, str(i), row[k]])\n",
        "  return IRR_out\n",
        "\n",
        "CR_IRR_out = create_output(IRR_df)\n",
        "# Calculate all other IRR statistics and store them in an NLTK object\n",
        "ratingtask = agreement.AnnotationTask(data=CR_IRR_out)\n",
        "# extract the statistics\n",
        "alpha = round(ratingtask.alpha(),3)\n",
        "Absolute_agreement = round(ratingtask.avg_Ao(),3)\n",
        "# Print all the statistics\n",
        "print(\"Krippendorf's Alpha \" +str(alpha))\n",
        "print(\"Absolute Agreement: \"+ str(Absolute_agreement))\n",
        "\n"
      ],
      "metadata": {
        "colab": {
          "base_uri": "https://localhost:8080/"
        },
        "id": "nCbJuySvTDJ_",
        "outputId": "4cefb2bc-e1bd-4fa4-d083-735dabdf38e6"
      },
      "execution_count": 5,
      "outputs": [
        {
          "output_type": "stream",
          "name": "stdout",
          "text": [
            "Krippendorf's Alpha 0.8\n",
            "Absolute Agreement: 0.952\n"
          ]
        }
      ]
    },
    {
      "cell_type": "markdown",
      "source": [
        "While the absolute agreement is very high (95%) the inter-rater reliability is lower but still high (alpha = 0.80). This is because most turns do not contain initiations, inflating the overall agreement."
      ],
      "metadata": {
        "id": "9M9Fh9STZv0K"
      }
    },
    {
      "cell_type": "code",
      "source": [
        "pct_neg = len(IRR_df[IRR_df.CR_A == \"_none_\"])/len(IRR_df) *100\n",
        "print(f\"Most turns do not contain a repair initiation ({pct_neg:.2f}%)\")"
      ],
      "metadata": {
        "colab": {
          "base_uri": "https://localhost:8080/"
        },
        "id": "ITl6FqDQZ8pR",
        "outputId": "770e26bd-29c6-4a3a-d21c-31b9515ccfac"
      },
      "execution_count": 7,
      "outputs": [
        {
          "output_type": "stream",
          "name": "stdout",
          "text": [
            "Most turns do not contain a repair initiation (86.44%)\n"
          ]
        }
      ]
    },
    {
      "cell_type": "markdown",
      "source": [
        "# 3. Validation of few-shot algorithm on manually coded data"
      ],
      "metadata": {
        "id": "UAp3CJWtX3Zo"
      }
    },
    {
      "cell_type": "markdown",
      "source": [
        "The full manually coded validation dataset (n=1,897) was used to develop the below prompt, used in few-shot learning using Open AI's [GPT 4](https://openai.com/gpt-4) generative AI model."
      ],
      "metadata": {
        "id": "Ax-TjpP1YNSM"
      }
    },
    {
      "cell_type": "markdown",
      "source": [
        "```\n",
        "Prompt = \"\"\"\n",
        "ROLE:\n",
        "You are a research assistant trained to identify whether a Reddit user is asking for clarification using only their post or comment.\n",
        "\n",
        "BACKGROUND:\n",
        "Clarification requests are a crucial tool used to enhance comprehension and avoid misunderstandings when faced with unclear or ambiguous communication.\n",
        "They are essentially questions that help individuals gather more information or confirm their assumptions, promoting precise understanding and reducing the risk of misinterpretation.\n",
        "The three types of clarification requests are as follows:\n",
        "Type 1: These are direct expressions of confusion, where the individual seeks a repetition or rephrasing of the original statement.\n",
        "Type 2: These are targeted inquiries aimed at extracting specific elements or details within the provided information.\n",
        "Type 3: These involve proposing a suggestion or hypothesis to confirm understanding, essentially narrowing down possibilities to affirm comprehension.\n",
        "Type 4: A rhetorical question (of types 1-3) that can be answered as if it were a clarification request.\n",
        "Example: \"Is this not somewhat... evident? I'm saying it's just basic reasoning.\"\n",
        "\n",
        "Whether you're dealing with complex scenarios or everyday conversations, these types of clarification requests can improve communication and mutual understanding.\n",
        "\n",
        "QUESTION: Does the below Reddit post or comment contain a request for clarification?\n",
        "Resond with YES if there is a clarification request. Respond with NO if not.\n",
        "Only respond with YES or NO.\n",
        "If the request is rhetorical, respond with YES.\n",
        "\n",
        "POST/COMMENT:\n",
        "'''\n",
        "{}\n",
        "'''\n",
        "RESPONSE:\n",
        "\"\"\"\n",
        "```"
      ],
      "metadata": {
        "id": "9YKIQZUiX5nH"
      }
    },
    {
      "cell_type": "markdown",
      "source": [
        "The below code reports the result of the algorithm validation (we have also included the training data for reproduction)."
      ],
      "metadata": {
        "id": "2kgnwPJSbCRN"
      }
    },
    {
      "cell_type": "code",
      "source": [
        "def binarize(label):\n",
        "  if label == \"yes\":\n",
        "    return 1\n",
        "  else:\n",
        "    return 0\n",
        "\n",
        "def display_confusion_matrix(true_labels, predicted_labels):\n",
        "  '''\n",
        "  Function for displaying a confusion matrix from results\n",
        "  '''\n",
        "  conf_mx = confusion_matrix(true_labels, predicted_labels)\n",
        "  disp = ConfusionMatrixDisplay(confusion_matrix=conf_mx)\n",
        "  disp.plot()\n",
        "\n",
        "y_test = Prompt_df[Prompt_df[\"Train_test\"] == \"test\"][\"CR_bin\"].to_list()\n",
        "y_pred = Prompt_df[Prompt_df[\"Train_test\"] == \"test\"][\"GPT_scores\"].to_list()\n",
        "y_test = [binarize(s) for s in y_test]\n",
        "y_pred= [binarize(s) for s in y_pred]"
      ],
      "metadata": {
        "id": "5SHZ0gauWxx4"
      },
      "execution_count": 8,
      "outputs": []
    },
    {
      "cell_type": "code",
      "source": [
        "# Calculate AUC-ROC\n",
        "auc_roc = roc_auc_score(y_test, y_pred)\n",
        "print(f'AUC-ROC: {auc_roc:.2f}\\n')\n",
        "# Compute precision-recall curve\n",
        "precision, recall, thresholds = precision_recall_curve(y_test, y_pred)\n",
        "# Calculate AUC-PR\n",
        "auc_pr = auc(recall, precision)\n",
        "print(f'AUC-PR: {auc_pr:.2f}\\n')\n",
        "print(classification_report(y_test,y_pred))\n",
        "display_confusion_matrix(y_test, y_pred)"
      ],
      "metadata": {
        "colab": {
          "base_uri": "https://localhost:8080/",
          "height": 675
        },
        "id": "03BqPX81UeBi",
        "outputId": "96e3efb5-43c0-4ce8-e994-e5b440455e88"
      },
      "execution_count": 9,
      "outputs": [
        {
          "output_type": "stream",
          "name": "stdout",
          "text": [
            "AUC-ROC: 0.83\n",
            "\n",
            "AUC-PR: 0.81\n",
            "\n",
            "              precision    recall  f1-score   support\n",
            "\n",
            "           0       0.92      0.98      0.95       737\n",
            "           1       0.88      0.67      0.76       190\n",
            "\n",
            "    accuracy                           0.91       927\n",
            "   macro avg       0.90      0.83      0.86       927\n",
            "weighted avg       0.91      0.91      0.91       927\n",
            "\n"
          ]
        },
        {
          "output_type": "display_data",
          "data": {
            "text/plain": [
              "<Figure size 640x480 with 2 Axes>"
            ],
            "image/png": "[encoded data removed]"
          },
          "metadata": {}
        }
      ]
    },
    {
      "cell_type": "markdown",
      "source": [
        "We can see that the algorithm is generally performing well (AUC-PR = 0.81), with a precision of 0.88 for identifying repair initiations. However, the recall is lower (recall = 0.67) meaning the algorithm is missing some true cases of repair inititations.\n"
      ],
      "metadata": {
        "id": "dcnwI2fJpEjc"
      }
    }
  ]
}